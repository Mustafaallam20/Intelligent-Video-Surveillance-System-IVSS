{
  "nbformat": 4,
  "nbformat_minor": 0,
  "metadata": {
    "colab": {
      "provenance": []
    },
    "kernelspec": {
      "name": "python3",
      "display_name": "Python 3"
    },
    "language_info": {
      "name": "python"
    }
  },
  "cells": [
    {
      "cell_type": "code",
      "execution_count": null,
      "metadata": {
        "colab": {
          "base_uri": "https://localhost:8080/"
        },
        "id": "NBY0t7IC-rED",
        "outputId": "6b45be5b-54ef-4d0a-fed9-89820fca756e"
      },
      "outputs": [
        {
          "output_type": "stream",
          "name": "stdout",
          "text": [
            "Mounted at /content/drive\n"
          ]
        }
      ],
      "source": [
        "from google.colab import drive\n",
        "drive.mount('/content/drive')"
      ]
    },
    {
      "cell_type": "code",
      "source": [
        "pip install --upgrade moviepy\n"
      ],
      "metadata": {
        "colab": {
          "base_uri": "https://localhost:8080/"
        },
        "id": "bvoTxwP-Ilcx",
        "outputId": "6d80f31d-e373-421f-d097-78a6b4e692c4"
      },
      "execution_count": null,
      "outputs": [
        {
          "output_type": "stream",
          "name": "stdout",
          "text": [
            "Looking in indexes: https://pypi.org/simple, https://us-python.pkg.dev/colab-wheels/public/simple/\n",
            "Requirement already satisfied: moviepy in /usr/local/lib/python3.8/dist-packages (0.2.3.5)\n",
            "Collecting moviepy\n",
            "  Downloading moviepy-1.0.3.tar.gz (388 kB)\n",
            "\u001b[2K     \u001b[90m━━━━━━━━━━━━━━━━━━━━━━━━━━━━━━━━━━━━━━\u001b[0m \u001b[32m388.3/388.3 KB\u001b[0m \u001b[31m16.2 MB/s\u001b[0m eta \u001b[36m0:00:00\u001b[0m\n",
            "\u001b[?25h  Preparing metadata (setup.py) ... \u001b[?25l\u001b[?25hdone\n",
            "Requirement already satisfied: decorator<5.0,>=4.0.2 in /usr/local/lib/python3.8/dist-packages (from moviepy) (4.4.2)\n",
            "Requirement already satisfied: tqdm<5.0,>=4.11.2 in /usr/local/lib/python3.8/dist-packages (from moviepy) (4.64.1)\n",
            "Requirement already satisfied: requests<3.0,>=2.8.1 in /usr/local/lib/python3.8/dist-packages (from moviepy) (2.25.1)\n",
            "Collecting proglog<=1.0.0\n",
            "  Downloading proglog-0.1.10-py3-none-any.whl (6.1 kB)\n",
            "Requirement already satisfied: numpy>=1.17.3 in /usr/local/lib/python3.8/dist-packages (from moviepy) (1.22.4)\n",
            "Requirement already satisfied: imageio<3.0,>=2.5 in /usr/local/lib/python3.8/dist-packages (from moviepy) (2.9.0)\n",
            "Collecting imageio_ffmpeg>=0.2.0\n",
            "  Downloading imageio_ffmpeg-0.4.8-py3-none-manylinux2010_x86_64.whl (26.9 MB)\n",
            "\u001b[2K     \u001b[90m━━━━━━━━━━━━━━━━━━━━━━━━━━━━━━━━━━━━━━━━\u001b[0m \u001b[32m26.9/26.9 MB\u001b[0m \u001b[31m68.1 MB/s\u001b[0m eta \u001b[36m0:00:00\u001b[0m\n",
            "\u001b[?25hRequirement already satisfied: pillow in /usr/local/lib/python3.8/dist-packages (from imageio<3.0,>=2.5->moviepy) (8.4.0)\n",
            "Requirement already satisfied: chardet<5,>=3.0.2 in /usr/local/lib/python3.8/dist-packages (from requests<3.0,>=2.8.1->moviepy) (4.0.0)\n",
            "Requirement already satisfied: urllib3<1.27,>=1.21.1 in /usr/local/lib/python3.8/dist-packages (from requests<3.0,>=2.8.1->moviepy) (1.24.3)\n",
            "Requirement already satisfied: certifi>=2017.4.17 in /usr/local/lib/python3.8/dist-packages (from requests<3.0,>=2.8.1->moviepy) (2022.12.7)\n",
            "Requirement already satisfied: idna<3,>=2.5 in /usr/local/lib/python3.8/dist-packages (from requests<3.0,>=2.8.1->moviepy) (2.10)\n",
            "Building wheels for collected packages: moviepy\n",
            "  Building wheel for moviepy (setup.py) ... \u001b[?25l\u001b[?25hdone\n",
            "  Created wheel for moviepy: filename=moviepy-1.0.3-py3-none-any.whl size=110742 sha256=6d207401af51f908702617d7c146ac58a7a85ec2a2e4ef8f7b786d2e6ebbc35a\n",
            "  Stored in directory: /root/.cache/pip/wheels/e4/a4/db/0368d3a04033da662e13926594b3a8cf1aa4ffeefe570cfac1\n",
            "Successfully built moviepy\n",
            "Installing collected packages: proglog, imageio_ffmpeg, moviepy\n",
            "  Attempting uninstall: moviepy\n",
            "    Found existing installation: moviepy 0.2.3.5\n",
            "    Uninstalling moviepy-0.2.3.5:\n",
            "      Successfully uninstalled moviepy-0.2.3.5\n",
            "Successfully installed imageio_ffmpeg-0.4.8 moviepy-1.0.3 proglog-0.1.10\n"
          ]
        }
      ]
    },
    {
      "cell_type": "code",
      "source": [
        "import cv2\n",
        "from matplotlib import pyplot as plt\n",
        "import numpy as np\n",
        "import pylab\n",
        "from google.colab.patches import cv2_imshow\n",
        "from moviepy.editor import VideoFileClip\n",
        "from moviepy import *\n",
        "import moviepy\n",
        "%matplotlib inline\n",
        "import time\n",
        "import os\n",
        "import glob"
      ],
      "metadata": {
        "id": "vwMW4x3UFH1D"
      },
      "execution_count": null,
      "outputs": []
    },
    {
      "cell_type": "markdown",
      "source": [
        "### Load weights and cfg"
      ],
      "metadata": {
        "id": "xBpQXgq-Elj2"
      }
    },
    {
      "cell_type": "code",
      "source": [
        "weights_path =os.path.join(\"/content/drive/MyDrive/project_data/yolov3-tiny.weights\")\n",
        "cfg_path =os.path.join(\"/content/drive/MyDrive/project_data/tiny.cfg.txt\")\n",
        "print(\" weights and cfg are loaded\")"
      ],
      "metadata": {
        "colab": {
          "base_uri": "https://localhost:8080/"
        },
        "id": "X0qJfXwsEmOM",
        "outputId": "32ef7284-0f3a-4844-a916-6aa607f3ebea"
      },
      "execution_count": null,
      "outputs": [
        {
          "output_type": "stream",
          "name": "stdout",
          "text": [
            " weights and cfg are loaded\n"
          ]
        }
      ]
    },
    {
      "cell_type": "markdown",
      "source": [
        "### load neural net in cv2 "
      ],
      "metadata": {
        "id": "qu03T7eSFr2w"
      }
    },
    {
      "cell_type": "code",
      "source": [
        "net=cv2.dnn.readNetFromDarknet(cfg_path ,weights_path)"
      ],
      "metadata": {
        "id": "rwhIrXARFflL"
      },
      "execution_count": null,
      "outputs": []
    },
    {
      "cell_type": "markdown",
      "source": [
        "### Get layers name"
      ],
      "metadata": {
        "id": "a4CThumPF9FI"
      }
    },
    {
      "cell_type": "code",
      "source": [
        "names=net.getLayerNames()"
      ],
      "metadata": {
        "id": "gBElov42FuwX"
      },
      "execution_count": null,
      "outputs": []
    },
    {
      "cell_type": "code",
      "source": [
        "layers_names=[names[i - 1] for i in net.getUnconnectedOutLayers()]"
      ],
      "metadata": {
        "id": "6MaVYJGUHI1q"
      },
      "execution_count": null,
      "outputs": []
    },
    {
      "cell_type": "markdown",
      "source": [
        "### define coco dataset labels"
      ],
      "metadata": {
        "id": "3OqiBLOQJArj"
      }
    },
    {
      "cell_type": "code",
      "source": [
        "labels_path=os.path.join(\"/content/drive/MyDrive/project_data/coco.names.txt\")\n",
        "labels = open(labels_path).read().strip().split(\"\\n\")"
      ],
      "metadata": {
        "id": "sT-rYBfeJLuO"
      },
      "execution_count": null,
      "outputs": []
    },
    {
      "cell_type": "markdown",
      "source": [
        "### define the pipeline on each image "
      ],
      "metadata": {
        "id": "nohRX2JsGRzJ"
      }
    },
    {
      "cell_type": "code",
      "source": [
        "def process(image):\n",
        "  (H,W)=image.shape[:2]\n",
        "  blob= cv2.dnn.blobFromImage(image,1/255.0,(416,416),crop=False,swapRB=False)\n",
        "  net.setInput(blob)\n",
        "  layers_output=net.forward(layers_names)\n",
        "  boxes=[]\n",
        "  confidences=[]\n",
        "  classIDs=[]\n",
        "  for output in layers_output:\n",
        "    for detection in output:\n",
        "        scores=detection[5:]\n",
        "        classID=np.argmax(scores)\n",
        "        confidence=scores[classID]\n",
        "        if classID==0 :\n",
        "          if (confidence >0.3):\n",
        "              box=detection[:4] * np.array([W,H,W,H])\n",
        "              bx,by,bw,bh=box.astype(\"int\")\n",
        "            \n",
        "              x=int(bx-(bw/2))\n",
        "              y=int(by-(bh/2))\n",
        "           \n",
        "              boxes.append([x,y,int(bw),int(bh)])\n",
        "              confidences.append(float(confidence))\n",
        "              classIDs.append(classID)\n",
        "    idx=cv2.dnn.NMSBoxes(boxes,confidences,0.3,0.4)\n",
        "    if (len(idx)>0):\n",
        "      for i in idx.flatten():\n",
        "        (x,y)=[boxes[i][0],boxes[i][1]]\n",
        "        (w,h)=[boxes[i][2],boxes[i][3]]\n",
        "        if bh>bw :\n",
        "          cv2.rectangle (image,(x,y),(x+w ,y+h),(0,255,0),2)\n",
        "        else :\n",
        "          cv2.rectangle (image,(x,y),(x+w ,y+h),(255,0,0),2)\n",
        "          cv2.putText(image,(\"fall detected\"),(x,y-5),cv2.FONT_HERSHEY_SIMPLEX,2,(255,0,0),2)\n",
        "        \n",
        "  return image"
      ],
      "metadata": {
        "id": "soYdHjr4GCyj"
      },
      "execution_count": null,
      "outputs": []
    },
    {
      "cell_type": "code",
      "source": [
        "white_output = (\"old_detected4.mp4\")\n",
        "clip1 = VideoFileClip(\"old_trimmed3.mp4\") \n",
        "white_clip = clip1.fl_image(process)\n",
        "white_clip.write_videofile(white_output, audio=False)"
      ],
      "metadata": {
        "colab": {
          "base_uri": "https://localhost:8080/"
        },
        "id": "WGWosWyiH5p7",
        "outputId": "61b90d34-c920-4b66-9390-37214592d516"
      },
      "execution_count": null,
      "outputs": [
        {
          "output_type": "stream",
          "name": "stdout",
          "text": [
            "Moviepy - Building video old_detected4.mp4.\n",
            "Moviepy - Writing video old_detected4.mp4\n",
            "\n"
          ]
        },
        {
          "output_type": "stream",
          "name": "stderr",
          "text": [
            "t: 100%|██████████| 197/197 [00:36<00:00,  6.54it/s, now=None]WARNING:py.warnings:/usr/local/lib/python3.8/dist-packages/moviepy/video/io/ffmpeg_reader.py:123: UserWarning: Warning: in file old_trimmed3.mp4, 2764800 bytes wanted but 0 bytes read,at frame 196/197, at time 6.54/6.54 sec. Using the last valid frame instead.\n",
            "  warnings.warn(\"Warning: in file %s, \"%(self.filename)+\n",
            "\n"
          ]
        },
        {
          "output_type": "stream",
          "name": "stdout",
          "text": [
            "Moviepy - Done !\n",
            "Moviepy - video ready old_detected4.mp4\n"
          ]
        }
      ]
    },
    {
      "cell_type": "code",
      "source": [],
      "metadata": {
        "id": "UstAi5LlILxb"
      },
      "execution_count": null,
      "outputs": []
    }
  ]
}