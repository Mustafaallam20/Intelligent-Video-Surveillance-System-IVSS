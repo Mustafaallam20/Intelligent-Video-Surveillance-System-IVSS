{
  "cells": [
    {
      "cell_type": "markdown",
      "id": "22faf16f",
      "metadata": {
        "id": "22faf16f"
      },
      "source": [
        "### import some libraries"
      ]
    },
    {
      "cell_type": "code",
      "source": [
        "from google.colab import drive\n",
        "drive.mount('/content/drive')"
      ],
      "metadata": {
        "colab": {
          "base_uri": "https://localhost:8080/"
        },
        "id": "HxPW9DVlgopB",
        "outputId": "054b6819-b057-4a66-8d1e-b930fc368b32"
      },
      "id": "HxPW9DVlgopB",
      "execution_count": 3,
      "outputs": [
        {
          "output_type": "stream",
          "name": "stdout",
          "text": [
            "Drive already mounted at /content/drive; to attempt to forcibly remount, call drive.mount(\"/content/drive\", force_remount=True).\n"
          ]
        }
      ]
    },
    {
      "cell_type": "code",
      "execution_count": 4,
      "id": "786d1ce5",
      "metadata": {
        "id": "786d1ce5"
      },
      "outputs": [],
      "source": [
        "import numpy as np\n",
        "import time\n",
        "import os\n",
        "import glob\n",
        "import matplotlib.pyplot as plt\n",
        "import cv2"
      ]
    },
    {
      "cell_type": "markdown",
      "id": "aaad8d46",
      "metadata": {
        "id": "aaad8d46"
      },
      "source": [
        "### Load weights and cfg"
      ]
    },
    {
      "cell_type": "code",
      "execution_count": 5,
      "id": "58295b61",
      "metadata": {
        "colab": {
          "base_uri": "https://localhost:8080/"
        },
        "id": "58295b61",
        "outputId": "17c1435e-afac-4af5-e85f-554b280445b4"
      },
      "outputs": [
        {
          "output_type": "stream",
          "name": "stdout",
          "text": [
            " weights and cfg are loaded\n"
          ]
        }
      ],
      "source": [
        "weights_path =os.path.join(\"/content/drive/MyDrive/project_data/yolov3.weights\")\n",
        "cfg_path =os.path.join(\"/content/drive/MyDrive/project_data/yolov3.cfg.txt\")\n",
        "print(\" weights and cfg are loaded\")"
      ]
    },
    {
      "cell_type": "markdown",
      "id": "500b1a3b",
      "metadata": {
        "id": "500b1a3b"
      },
      "source": [
        "### load neural net in cv2 "
      ]
    },
    {
      "cell_type": "code",
      "execution_count": 6,
      "id": "2ad8f027",
      "metadata": {
        "id": "2ad8f027"
      },
      "outputs": [],
      "source": [
        "net=cv2.dnn.readNetFromDarknet(cfg_path ,weights_path)\n"
      ]
    },
    {
      "cell_type": "markdown",
      "id": "f8f49f9f",
      "metadata": {
        "id": "f8f49f9f"
      },
      "source": [
        "[link text](https://)### Get layesr name"
      ]
    },
    {
      "cell_type": "code",
      "execution_count": 7,
      "id": "911a5ec8",
      "metadata": {
        "id": "911a5ec8"
      },
      "outputs": [],
      "source": [
        "names=net.getLayerNames()"
      ]
    },
    {
      "cell_type": "code",
      "execution_count": 8,
      "id": "2bfa647f",
      "metadata": {
        "id": "2bfa647f",
        "colab": {
          "base_uri": "https://localhost:8080/"
        },
        "outputId": "b4b6acc2-98f5-417c-db2b-3df56c241f98"
      },
      "outputs": [
        {
          "output_type": "execute_result",
          "data": {
            "text/plain": [
              "('conv_0',\n",
              " 'bn_0',\n",
              " 'leaky_1',\n",
              " 'conv_1',\n",
              " 'bn_1',\n",
              " 'leaky_2',\n",
              " 'conv_2',\n",
              " 'bn_2',\n",
              " 'leaky_3',\n",
              " 'conv_3',\n",
              " 'bn_3',\n",
              " 'leaky_4',\n",
              " 'shortcut_4',\n",
              " 'conv_5',\n",
              " 'bn_5',\n",
              " 'leaky_6',\n",
              " 'conv_6',\n",
              " 'bn_6',\n",
              " 'leaky_7',\n",
              " 'conv_7',\n",
              " 'bn_7',\n",
              " 'leaky_8',\n",
              " 'shortcut_8',\n",
              " 'conv_9',\n",
              " 'bn_9',\n",
              " 'leaky_10',\n",
              " 'conv_10',\n",
              " 'bn_10',\n",
              " 'leaky_11',\n",
              " 'shortcut_11',\n",
              " 'conv_12',\n",
              " 'bn_12',\n",
              " 'leaky_13',\n",
              " 'conv_13',\n",
              " 'bn_13',\n",
              " 'leaky_14',\n",
              " 'conv_14',\n",
              " 'bn_14',\n",
              " 'leaky_15',\n",
              " 'shortcut_15',\n",
              " 'conv_16',\n",
              " 'bn_16',\n",
              " 'leaky_17',\n",
              " 'conv_17',\n",
              " 'bn_17',\n",
              " 'leaky_18',\n",
              " 'shortcut_18',\n",
              " 'conv_19',\n",
              " 'bn_19',\n",
              " 'leaky_20',\n",
              " 'conv_20',\n",
              " 'bn_20',\n",
              " 'leaky_21',\n",
              " 'shortcut_21',\n",
              " 'conv_22',\n",
              " 'bn_22',\n",
              " 'leaky_23',\n",
              " 'conv_23',\n",
              " 'bn_23',\n",
              " 'leaky_24',\n",
              " 'shortcut_24',\n",
              " 'conv_25',\n",
              " 'bn_25',\n",
              " 'leaky_26',\n",
              " 'conv_26',\n",
              " 'bn_26',\n",
              " 'leaky_27',\n",
              " 'shortcut_27',\n",
              " 'conv_28',\n",
              " 'bn_28',\n",
              " 'leaky_29',\n",
              " 'conv_29',\n",
              " 'bn_29',\n",
              " 'leaky_30',\n",
              " 'shortcut_30',\n",
              " 'conv_31',\n",
              " 'bn_31',\n",
              " 'leaky_32',\n",
              " 'conv_32',\n",
              " 'bn_32',\n",
              " 'leaky_33',\n",
              " 'shortcut_33',\n",
              " 'conv_34',\n",
              " 'bn_34',\n",
              " 'leaky_35',\n",
              " 'conv_35',\n",
              " 'bn_35',\n",
              " 'leaky_36',\n",
              " 'shortcut_36',\n",
              " 'conv_37',\n",
              " 'bn_37',\n",
              " 'leaky_38',\n",
              " 'conv_38',\n",
              " 'bn_38',\n",
              " 'leaky_39',\n",
              " 'conv_39',\n",
              " 'bn_39',\n",
              " 'leaky_40',\n",
              " 'shortcut_40',\n",
              " 'conv_41',\n",
              " 'bn_41',\n",
              " 'leaky_42',\n",
              " 'conv_42',\n",
              " 'bn_42',\n",
              " 'leaky_43',\n",
              " 'shortcut_43',\n",
              " 'conv_44',\n",
              " 'bn_44',\n",
              " 'leaky_45',\n",
              " 'conv_45',\n",
              " 'bn_45',\n",
              " 'leaky_46',\n",
              " 'shortcut_46',\n",
              " 'conv_47',\n",
              " 'bn_47',\n",
              " 'leaky_48',\n",
              " 'conv_48',\n",
              " 'bn_48',\n",
              " 'leaky_49',\n",
              " 'shortcut_49',\n",
              " 'conv_50',\n",
              " 'bn_50',\n",
              " 'leaky_51',\n",
              " 'conv_51',\n",
              " 'bn_51',\n",
              " 'leaky_52',\n",
              " 'shortcut_52',\n",
              " 'conv_53',\n",
              " 'bn_53',\n",
              " 'leaky_54',\n",
              " 'conv_54',\n",
              " 'bn_54',\n",
              " 'leaky_55',\n",
              " 'shortcut_55',\n",
              " 'conv_56',\n",
              " 'bn_56',\n",
              " 'leaky_57',\n",
              " 'conv_57',\n",
              " 'bn_57',\n",
              " 'leaky_58',\n",
              " 'shortcut_58',\n",
              " 'conv_59',\n",
              " 'bn_59',\n",
              " 'leaky_60',\n",
              " 'conv_60',\n",
              " 'bn_60',\n",
              " 'leaky_61',\n",
              " 'shortcut_61',\n",
              " 'conv_62',\n",
              " 'bn_62',\n",
              " 'leaky_63',\n",
              " 'conv_63',\n",
              " 'bn_63',\n",
              " 'leaky_64',\n",
              " 'conv_64',\n",
              " 'bn_64',\n",
              " 'leaky_65',\n",
              " 'shortcut_65',\n",
              " 'conv_66',\n",
              " 'bn_66',\n",
              " 'leaky_67',\n",
              " 'conv_67',\n",
              " 'bn_67',\n",
              " 'leaky_68',\n",
              " 'shortcut_68',\n",
              " 'conv_69',\n",
              " 'bn_69',\n",
              " 'leaky_70',\n",
              " 'conv_70',\n",
              " 'bn_70',\n",
              " 'leaky_71',\n",
              " 'shortcut_71',\n",
              " 'conv_72',\n",
              " 'bn_72',\n",
              " 'leaky_73',\n",
              " 'conv_73',\n",
              " 'bn_73',\n",
              " 'leaky_74',\n",
              " 'shortcut_74',\n",
              " 'conv_75',\n",
              " 'bn_75',\n",
              " 'leaky_76',\n",
              " 'conv_76',\n",
              " 'bn_76',\n",
              " 'leaky_77',\n",
              " 'conv_77',\n",
              " 'bn_77',\n",
              " 'leaky_78',\n",
              " 'conv_78',\n",
              " 'bn_78',\n",
              " 'leaky_79',\n",
              " 'conv_79',\n",
              " 'bn_79',\n",
              " 'leaky_80',\n",
              " 'conv_80',\n",
              " 'bn_80',\n",
              " 'leaky_81',\n",
              " 'conv_81',\n",
              " 'permute_82',\n",
              " 'yolo_82',\n",
              " 'identity_83',\n",
              " 'conv_84',\n",
              " 'bn_84',\n",
              " 'leaky_85',\n",
              " 'upsample_85',\n",
              " 'concat_86',\n",
              " 'conv_87',\n",
              " 'bn_87',\n",
              " 'leaky_88',\n",
              " 'conv_88',\n",
              " 'bn_88',\n",
              " 'leaky_89',\n",
              " 'conv_89',\n",
              " 'bn_89',\n",
              " 'leaky_90',\n",
              " 'conv_90',\n",
              " 'bn_90',\n",
              " 'leaky_91',\n",
              " 'conv_91',\n",
              " 'bn_91',\n",
              " 'leaky_92',\n",
              " 'conv_92',\n",
              " 'bn_92',\n",
              " 'leaky_93',\n",
              " 'conv_93',\n",
              " 'permute_94',\n",
              " 'yolo_94',\n",
              " 'identity_95',\n",
              " 'conv_96',\n",
              " 'bn_96',\n",
              " 'leaky_97',\n",
              " 'upsample_97',\n",
              " 'concat_98',\n",
              " 'conv_99',\n",
              " 'bn_99',\n",
              " 'leaky_100',\n",
              " 'conv_100',\n",
              " 'bn_100',\n",
              " 'leaky_101',\n",
              " 'conv_101',\n",
              " 'bn_101',\n",
              " 'leaky_102',\n",
              " 'conv_102',\n",
              " 'bn_102',\n",
              " 'leaky_103',\n",
              " 'conv_103',\n",
              " 'bn_103',\n",
              " 'leaky_104',\n",
              " 'conv_104',\n",
              " 'bn_104',\n",
              " 'leaky_105',\n",
              " 'conv_105',\n",
              " 'permute_106',\n",
              " 'yolo_106')"
            ]
          },
          "metadata": {},
          "execution_count": 8
        }
      ],
      "source": [
        "names"
      ]
    },
    {
      "cell_type": "markdown",
      "id": "ca224eea",
      "metadata": {
        "id": "ca224eea"
      },
      "source": [
        "### load the test image"
      ]
    },
    {
      "cell_type": "code",
      "execution_count": 65,
      "id": "a186c30a",
      "metadata": {
        "id": "a186c30a"
      },
      "outputs": [],
      "source": [
        "image_path =os.path.join(\"/content/original.jfif\")\n",
        "img = plt.imread(image_path)\n"
      ]
    },
    {
      "cell_type": "code",
      "execution_count": 66,
      "id": "3c1d3979",
      "metadata": {
        "colab": {
          "base_uri": "https://localhost:8080/",
          "height": 286
        },
        "id": "3c1d3979",
        "outputId": "5931a394-98bb-4baf-ae82-8db78203cac0"
      },
      "outputs": [
        {
          "output_type": "execute_result",
          "data": {
            "text/plain": [
              "<matplotlib.image.AxesImage at 0x7f5dc4e742e0>"
            ]
          },
          "metadata": {},
          "execution_count": 66
        },
        {
          "output_type": "display_data",
          "data": {
            "text/plain": [
              "<Figure size 432x288 with 1 Axes>"
            ],
            "image/png": "[encoded data removed]"
          },
          "metadata": {
            "needs_background": "light"
          }
        }
      ],
      "source": [
        "plt.imshow(img)"
      ]
    },
    {
      "cell_type": "code",
      "execution_count": 67,
      "id": "7c51a94b",
      "metadata": {
        "id": "7c51a94b"
      },
      "outputs": [],
      "source": [
        "(H,W)=img.shape[:2]\n",
        "layers_names=[names[i - 1] for i in net.getUnconnectedOutLayers()]"
      ]
    },
    {
      "cell_type": "code",
      "execution_count": 68,
      "id": "82518fbf",
      "metadata": {
        "colab": {
          "base_uri": "https://localhost:8080/"
        },
        "id": "82518fbf",
        "outputId": "c5b9ef59-537e-4ffc-a834-5f3b4ad59cc4"
      },
      "outputs": [
        {
          "output_type": "execute_result",
          "data": {
            "text/plain": [
              "['yolo_82', 'yolo_94', 'yolo_106']"
            ]
          },
          "metadata": {},
          "execution_count": 68
        }
      ],
      "source": [
        "layers_names\n"
      ]
    },
    {
      "cell_type": "markdown",
      "id": "0cb2c4ea",
      "metadata": {
        "id": "0cb2c4ea"
      },
      "source": [
        "### Run the inference on the test image"
      ]
    },
    {
      "cell_type": "code",
      "execution_count": 69,
      "id": "dc591897",
      "metadata": {
        "colab": {
          "base_uri": "https://localhost:8080/"
        },
        "id": "dc591897",
        "outputId": "8583e7e1-7fe6-43bf-ad15-18faaf3b6aeb"
      },
      "outputs": [
        {
          "output_type": "stream",
          "name": "stdout",
          "text": [
            "A forward pass through tiny yolo v3 took1.3241736888885498\n"
          ]
        }
      ],
      "source": [
        "blob= cv2.dnn.blobFromImage(img,1/255.0,(416,416),crop=False,swapRB=False)\n",
        "net.setInput(blob)\n",
        "#calculate the runtime of algorithm\n",
        "start=time.time()\n",
        "layers_output=net.forward(layers_names)\n",
        "print(\"A forward pass through tiny yolo v3 took{}\".format(time.time()-start))"
      ]
    },
    {
      "cell_type": "code",
      "execution_count": 70,
      "id": "d0cd30c6",
      "metadata": {
        "colab": {
          "base_uri": "https://localhost:8080/"
        },
        "id": "d0cd30c6",
        "outputId": "1e452538-a956-4c18-d0bf-e512ed28ef7f"
      },
      "outputs": [
        {
          "output_type": "execute_result",
          "data": {
            "text/plain": [
              "(507, 85)"
            ]
          },
          "metadata": {},
          "execution_count": 70
        }
      ],
      "source": [
        "layers_output[0].shape"
      ]
    },
    {
      "cell_type": "code",
      "execution_count": 71,
      "id": "a285b6e7",
      "metadata": {
        "id": "a285b6e7"
      },
      "outputs": [],
      "source": [
        "boxes=[]\n",
        "confidences=[]\n",
        "classIDs=[]"
      ]
    },
    {
      "cell_type": "code",
      "execution_count": 72,
      "id": "323749c8",
      "metadata": {
        "id": "323749c8"
      },
      "outputs": [],
      "source": [
        "for output in layers_output:\n",
        "    for detection in output:\n",
        "        scores=detection[5:]\n",
        "        classID=np.argmax(scores)\n",
        "        confidence=scores[classID]\n",
        "        if classID==0 :\n",
        "          if (confidence >0.4):\n",
        "            box=detection[:4] * np.array([W,H,W,H])\n",
        "            bx,by,bw,bh=box.astype(\"int\")\n",
        "            \n",
        "            x=int(bx-(bw/2))\n",
        "            y=int(by-(bh/2))\n",
        "           \n",
        "            boxes.append([x,y,int(bw),int(bh)])\n",
        "            confidences.append(float(confidence))\n",
        "            classIDs.append(classID)"
      ]
    },
    {
      "cell_type": "code",
      "execution_count": 73,
      "id": "9e2b2b4d",
      "metadata": {
        "id": "9e2b2b4d"
      },
      "outputs": [],
      "source": [
        "idx=cv2.dnn.NMSBoxes(boxes,confidences,0.4,0.4)"
      ]
    },
    {
      "cell_type": "code",
      "execution_count": 74,
      "id": "edd80a91",
      "metadata": {
        "id": "edd80a91"
      },
      "outputs": [],
      "source": [
        "labels_path=os.path.join(\"/content/drive/MyDrive/project_data/coco.names.txt\")\n",
        "labels = open(labels_path).read().strip().split(\"\\n\")"
      ]
    },
    {
      "cell_type": "markdown",
      "id": "54a57653",
      "metadata": {
        "id": "54a57653"
      },
      "source": [
        "### plot boundung boxes in the image"
      ]
    },
    {
      "cell_type": "code",
      "execution_count": 75,
      "id": "1418f700",
      "metadata": {
        "colab": {
          "base_uri": "https://localhost:8080/",
          "height": 286
        },
        "id": "1418f700",
        "outputId": "5ee09390-0290-4b94-a710-3cdd6dca185c"
      },
      "outputs": [
        {
          "output_type": "execute_result",
          "data": {
            "text/plain": [
              "<matplotlib.image.AxesImage at 0x7f5dc4e595b0>"
            ]
          },
          "metadata": {},
          "execution_count": 75
        },
        {
          "output_type": "display_data",
          "data": {
            "text/plain": [
              "<Figure size 432x288 with 1 Axes>"
            ],
            "image/png": "[encoded data removed]"
          },
          "metadata": {
            "needs_background": "light"
          }
        }
      ],
      "source": [
        "for i in idx.flatten():\n",
        "    (x,y)=[boxes[i][0],boxes[i][1]]\n",
        "    (w,h)=[boxes[i][2],boxes[i][3]]\n",
        "    if bh>bw :\n",
        "      cv2.rectangle (img,(x,y),(x+w ,y+h),(0,255,0),2)\n",
        "    else :\n",
        "      cv2.rectangle (img,(x,y),(x+w ,y+h),(255,0,0),2)\n",
        "      cv2.putText(img,(\"fall detected\"),(x,y-5),cv2.FONT_HERSHEY_SIMPLEX,2,(255,0,0),2)\n",
        "plt.imshow(img)\n"
      ]
    },
    {
      "cell_type": "code",
      "execution_count": null,
      "id": "8bc51b10",
      "metadata": {
        "id": "8bc51b10"
      },
      "outputs": [],
      "source": []
    }
  ],
  "metadata": {
    "kernelspec": {
      "display_name": "Python [conda env:anaconda3]",
      "language": "python",
      "name": "conda-env-anaconda3-py"
    },
    "language_info": {
      "codemirror_mode": {
        "name": "ipython",
        "version": 3
      },
      "file_extension": ".py",
      "mimetype": "text/x-python",
      "name": "python",
      "nbconvert_exporter": "python",
      "pygments_lexer": "ipython3",
      "version": "3.8.8"
    },
    "colab": {
      "provenance": []
    },
    "accelerator": "TPU",
    "gpuClass": "standard"
  },
  "nbformat": 4,
  "nbformat_minor": 5
}